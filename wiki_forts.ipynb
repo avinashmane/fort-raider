{
 "cells": [
  {
   "cell_type": "code",
   "execution_count": 2,
   "metadata": {},
   "outputs": [],
   "source": [
    "import wikipedia\n",
    "# wikipedia.search(\"forts in Maharashtra\", results=3)"
   ]
  },
  {
   "cell_type": "code",
   "execution_count": 3,
   "metadata": {},
   "outputs": [],
   "source": [
    "mah=wikipedia.page('List of forts in Maharashtra')"
   ]
  },
  {
   "cell_type": "code",
   "execution_count": 11,
   "metadata": {
    "tags": []
   },
   "outputs": [
    {
     "output_type": "stream",
     "name": "stdout",
     "text": "Achala Fort >> Title:  Achala Fort coord http://www.google.com/maps/@20.43172222,73.81525\nAgashi Fort >> Title:  Achala Fort coord http://www.google.com/maps/@20.43172222,73.81525\nAhivant Fort >> Title:  Ahivant Fort coord http://www.google.com/maps/@20.41544444,73.86\n"
    }
   ],
   "source": [
    "for f in mah.links[:3]:\n",
    "    try:\n",
    "        fw = wikipedia.page(f)\n",
    "        coord=\",\".join([str(float(c)) for c in fw.coordinates])\n",
    "    except:\n",
    "        pass\n",
    "    print(f, \">> Title: \",fw.title,\"coord\",'http://'+'www.google.com/maps/@'+coord)"
   ]
  },
  {
   "cell_type": "code",
   "execution_count": 9,
   "metadata": {
    "tags": []
   },
   "outputs": [
    {
     "output_type": "stream",
     "name": "stdout",
     "text": "Categories:  Forts in Maharashtra, Lists of buildings and structures in Maharashtra, Lists of forts in India, Lists of tourist attractions in Maharashtra\nCategories:  Achala Fort, Agashi Fort, Ahivant Fort, Ahme, Ahmednagar Fort, Ajinkyatara, Akluj Fort, Akola Fort, Alang Fort, Ambolgad, Anjaneri, Anjanvel Fort, Ankai Fort, Antur Fort, Arnala fort, Asava fort, Asheri fort, Avandha Fort, Avchitgad, Bahadur Fort, Balapur Fort, Ballarpur Fort, Bankot fort, Basgad, Bassein Fort, Belapur Fort, Bhagwantgad, Bhairavgad, Bhamer Dhule, Bharatgad, Bhaskargad, Bhavangad Fort, Bhorgiri fort, Bhudargad, Bhupatgad Fort, Bhushangad, Birwadi fort, Bitangad, Bombay Castle, Castella de Aguada, Chanda Fort, Chandan Fort, Chandragad, Chandwad fort, Chauler Fort, Chavand fort, Dategad, Dativare fort, Daulatabad Fort, Dermal Fort, Devgad fort, Dhodap, Dhunda fort, Dongri Fort, Dronagiri Fort, Durgabhandar, Durgadi Fort, Fatte gad, Fort George, Bombay, Fort Mangad, Gagangad, Galna, Gambhirgad, Gawilghur, Ghangad, Ghargad, Ghodbunder Fort, Ghosale gad, Goa fort, Gorakhgad, Gowalkot, Gunvantgad, Hadsar, Hargad, Harihar fort, Harishchandragad, Hatgadh Fort, India, Indori fort, Indrai fort, Irshalgad, Jaigad Fort, Jamgaon Fort, Jamner Fort, Jangali Jayagad, Javlya fort, Jivdhan, Kalanandigad, Kalavantin Durg, Kaldurg Fort, Kalyangad, Kamalgad, Kamandurg Fort, Kanchana Fort, Kandhar Fort, Kanhera Fort, Kanhera Fort (Chalisgaon), Kankrala, Karnala Fort, Kavnai fort, Kelve Fort, Kenjalgad, Khanderi, Kharda, Kohoj, Kolaba Fort, Koldher Fort, Konkan Diva Fort, Korigad Fort, Korlai Fort, Kothaligad, Kulang Fort, Kunjargad, Kurdugad, Laling fort, Lingana, List of forts in Mumbai, Lohagad, Machindragad, Machnur Fort, Madangad Fort, Madh Fort, Maharashtra, Mahim Fort, Mahimangad, Mahipalgad, Mahipatgad, Mahuli, Mahur Fort, Mailagad Fort, Makrandgad, Malanggad, Malegaon fort, Malhargad, Manaranjan Fort, Mandangad fort, Mangad fort, Mangalgad, Mangi-Tungi, Manikgad, Manikgad (Raigad), Mansantoshgad, Markanda Fort, Mazagon Fort, Mohandar fort, Mohangad, Mora fort, Morgiri Fort, Mrugagad, Mulher, Murud-Janjira, Naldurg Fort, Nanded fort, Nandoshi fort, Narayangad, Narnala, Narsimhagad, Nhavigad, Nimgiri-Hanumantgad fort, Nivati fort, Pabargad, Padargad, Padmadurg, Palashi Fort, Palgad, Pandavgad, Panhala Fort, Paranda Fort, Pargadh, Parola Fort, Patta Fort, Pavangad, Pettah of Ahmednagar, Pisola fort, Prabalgad, Prachitgad, Pratapgad, Purandar fort, Purnagad, Raigad Fort, Rajdher fort, Rajgad, Ramsej, Ramtek, Rangana Fort, Rasalgad, Ratangad, Ratnagiri Fort, Ravlya Fort, Revdanda fort, Riwa Fort, Rohida fort, Sagargad, Sajjangad, Salher, Salota fort, Samangad, Sangram Durg, Santoshgad, Sarasgad, Sarjekot fort, Sewri Fort, Shaniwar Wada, Shirgaon Fort, Shivgad, Shivneri, Shrivardhan Fort, Siddhagad, Sindhudurg Fort, Sinhagad, Sion Hillock Fort, Sitabuldi Fort, Sondai fort, Songir, Songiri, Sudhagad, Sumargad, Surgad, Suvarnadurg, Tailbaila fort, Takmak fort, Talagad, Tandulwadi fort, Tankai fort, Tarapur fort, Terekhol fort, Thalner, Tikona, Tipagad (Gadchiroli), Torna Fort, Tringalwadi, Trymbakgad, Tung Fort, Tungi fort, Udgir Fort, Underi, Vaghera Fort, Vairagad Fort, Vairatgad Fort, Vajragad, Vandan Fort, Vardhangad Fort, Varugad, Vasai Fort, Vasantgad, Vasota Fort, Vijaydurg Fort, Vijaygad Fort, Vikatgad, Visapur Fort, Vishalgad, Worli Fort, Yashwantgad Fort, Yeshwantgad\n"
    }
   ],
   "source": [
    "print('Categories: ', \", \".join(mah.categories))\n",
    "print('Categories: ', \", \".join(mah.links))"
   ]
  },
  {
   "cell_type": "code",
   "execution_count": 11,
   "metadata": {},
   "outputs": [],
   "source": [
    "a=wikipedia.page(mah.links[0])"
   ]
  },
  {
   "cell_type": "code",
   "execution_count": 28,
   "metadata": {
    "tags": []
   },
   "outputs": [
    {
     "output_type": "execute_result",
     "data": {
      "text/plain": "[20.43172222, 73.81525]"
     },
     "metadata": {},
     "execution_count": 28
    }
   ],
   "source": []
  },
  {
   "cell_type": "code",
   "execution_count": null,
   "metadata": {},
   "outputs": [],
   "source": []
  }
 ],
 "metadata": {
  "language_info": {
   "codemirror_mode": {
    "name": "ipython",
    "version": 3
   },
   "file_extension": ".py",
   "mimetype": "text/x-python",
   "name": "python",
   "nbconvert_exporter": "python",
   "pygments_lexer": "ipython3",
   "version": "3.7.7-final"
  },
  "orig_nbformat": 2,
  "kernelspec": {
   "name": "python37764bitc5897122caa0434383891ed0ae32496e",
   "display_name": "Python 3.7.7 64-bit"
  }
 },
 "nbformat": 4,
 "nbformat_minor": 2
}